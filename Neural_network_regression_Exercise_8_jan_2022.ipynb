{
  "nbformat": 4,
  "nbformat_minor": 0,
  "metadata": {
    "colab": {
      "provenance": [],
      "authorship_tag": "ABX9TyOX0VsGu3Gm3hdSZleME9cU",
      "include_colab_link": true
    },
    "kernelspec": {
      "name": "python3",
      "display_name": "Python 3"
    },
    "language_info": {
      "name": "python"
    }
  },
  "cells": [
    {
      "cell_type": "markdown",
      "metadata": {
        "id": "view-in-github",
        "colab_type": "text"
      },
      "source": [
        "<a href=\"https://colab.research.google.com/github/manavkapur/100DayTensorFlow/blob/main/Neural_network_regression_Exercise_8_jan_2022.ipynb\" target=\"_parent\"><img src=\"https://colab.research.google.com/assets/colab-badge.svg\" alt=\"Open In Colab\"/></a>"
      ]
    },
    {
      "cell_type": "code",
      "execution_count": 2,
      "metadata": {
        "id": "jzMGDlLv_XNF"
      },
      "outputs": [],
      "source": [
        "import tensorflow as tf\n",
        "import pandas as pd\n",
        "import numpy as np\n",
        "import matplotlib.pyplot as plt"
      ]
    },
    {
      "cell_type": "code",
      "source": [
        "\n",
        "(x_train, y_train), (x_test, y_test) = tf.keras.datasets.boston_housing.load_data(\n",
        "    path='boston_housing.npz', test_split=0.2, seed=113\n",
        ")"
      ],
      "metadata": {
        "id": "A_hYpbms_7n9"
      },
      "execution_count": 4,
      "outputs": []
    },
    {
      "cell_type": "code",
      "source": [
        "x_train.shape, x_test.shape, y_train.shape, y_test.shape"
      ],
      "metadata": {
        "colab": {
          "base_uri": "https://localhost:8080/"
        },
        "id": "Nyxjw2hLEnBR",
        "outputId": "dce02b91-fa6d-4240-d2f4-5c5e99959ea9"
      },
      "execution_count": 14,
      "outputs": [
        {
          "output_type": "execute_result",
          "data": {
            "text/plain": [
              "((404, 13), (102, 13), (404,), (102,))"
            ]
          },
          "metadata": {},
          "execution_count": 14
        }
      ]
    },
    {
      "cell_type": "code",
      "source": [
        "# Set random seed\n",
        "tf.random.set_seed(42)\n",
        "\n",
        "#create\n",
        "model_1 = tf.keras.Sequential([\n",
        "    tf.keras.layers.Dense(1)\n",
        "])\n",
        "\n",
        "#compile\n",
        "model_1.compile(loss = tf.keras.losses.mae,\n",
        "                optimizer = tf.keras.optimizers.SGD(),\n",
        "                metrics = ['mae'])\n",
        "\n",
        "#fit\n",
        "model_1.fit(x_train, y_train, epochs = 100, verbose = 0)"
      ],
      "metadata": {
        "colab": {
          "base_uri": "https://localhost:8080/"
        },
        "id": "GOFElJeVE0Xw",
        "outputId": "50820540-72fa-4223-d0a2-a35d680389d7"
      },
      "execution_count": 19,
      "outputs": [
        {
          "output_type": "execute_result",
          "data": {
            "text/plain": [
              "<keras.callbacks.History at 0x7fb8b9c51d60>"
            ]
          },
          "metadata": {},
          "execution_count": 19
        }
      ]
    },
    {
      "cell_type": "code",
      "source": [
        "#Check the result \n",
        "model_1_mae = model_1.evaluate(x_test, y_test)\n",
        "model_1_mae"
      ],
      "metadata": {
        "colab": {
          "base_uri": "https://localhost:8080/"
        },
        "id": "gFqpLJetOYC5",
        "outputId": "58d7d4f1-c79b-425e-b166-4c19a2789c1a"
      },
      "execution_count": 20,
      "outputs": [
        {
          "output_type": "stream",
          "name": "stdout",
          "text": [
            "4/4 [==============================] - 0s 4ms/step - loss: 830.8798 - mae: 830.8798\n"
          ]
        },
        {
          "output_type": "execute_result",
          "data": {
            "text/plain": [
              "[830.8798217773438, 830.8798217773438]"
            ]
          },
          "metadata": {},
          "execution_count": 20
        }
      ]
    },
    {
      "cell_type": "code",
      "source": [
        "# Set random seed\n",
        "tf.random.set_seed(42)\n",
        "\n",
        "#create\n",
        "model_2 = tf.keras.Sequential([\n",
        "    tf.keras.layers.Dense(1000),\n",
        "    tf.keras.layers.Dense(100),\n",
        "    tf.keras.layers.Dense(10),\n",
        "    tf.keras.layers.Dense(1)\n",
        "])\n",
        "\n",
        "#compile\n",
        "model_2.compile(loss = tf.keras.losses.mae,\n",
        "                optimizer = tf.keras.optimizers.Adam(),\n",
        "                metrics = ['mae'])\n",
        "\n",
        "#fit\n",
        "model_2.fit(x_train, y_train, epochs = 100, verbose = 0)"
      ],
      "metadata": {
        "colab": {
          "base_uri": "https://localhost:8080/"
        },
        "id": "Oz_91rpgZ5pF",
        "outputId": "b4f13efb-2c9d-4a77-fe29-4754d66c7e06"
      },
      "execution_count": 23,
      "outputs": [
        {
          "output_type": "execute_result",
          "data": {
            "text/plain": [
              "<keras.callbacks.History at 0x7fb8b47d9700>"
            ]
          },
          "metadata": {},
          "execution_count": 23
        }
      ]
    },
    {
      "cell_type": "code",
      "source": [
        "#Check the result \n",
        "model_2_mae = model_2.evaluate(x_test, y_test)\n",
        "model_2_mae"
      ],
      "metadata": {
        "colab": {
          "base_uri": "https://localhost:8080/"
        },
        "id": "_VGVIaomadzM",
        "outputId": "4bd51b37-f22b-4fe5-e4a9-3d7a54d25887"
      },
      "execution_count": 24,
      "outputs": [
        {
          "output_type": "stream",
          "name": "stdout",
          "text": [
            "4/4 [==============================] - 0s 4ms/step - loss: 4.7057 - mae: 4.7057\n"
          ]
        },
        {
          "output_type": "execute_result",
          "data": {
            "text/plain": [
              "[4.705740928649902, 4.705740928649902]"
            ]
          },
          "metadata": {},
          "execution_count": 24
        }
      ]
    },
    {
      "cell_type": "code",
      "source": [
        "# Set random seed\n",
        "tf.random.set_seed(42)\n",
        "\n",
        "#create\n",
        "model_3 = tf.keras.Sequential([\n",
        "    tf.keras.layers.Dense(1000),\n",
        "    tf.keras.layers.Dense(100),\n",
        "    tf.keras.layers.Dense(10),\n",
        "    tf.keras.layers.Dense(1)\n",
        "])\n",
        "\n",
        "#compile\n",
        "model_3.compile(loss = tf.keras.losses.mae,\n",
        "                optimizer = tf.keras.optimizers.Adam(learning_rate=0.001,),\n",
        "                metrics = ['mae'])\n",
        "\n",
        "#fit\n",
        "model_3.fit(x_train, y_train, epochs = 200, verbose = 0)"
      ],
      "metadata": {
        "colab": {
          "base_uri": "https://localhost:8080/"
        },
        "id": "cbAQmuodajmy",
        "outputId": "39897e56-a373-47da-bdb3-d8a16beb09de"
      },
      "execution_count": 27,
      "outputs": [
        {
          "output_type": "execute_result",
          "data": {
            "text/plain": [
              "<keras.callbacks.History at 0x7fb8b53d34c0>"
            ]
          },
          "metadata": {},
          "execution_count": 27
        }
      ]
    },
    {
      "cell_type": "code",
      "source": [
        "#Check the result \n",
        "model_3_mae = model_3.evaluate(x_test, y_test)\n",
        "model_3_mae"
      ],
      "metadata": {
        "colab": {
          "base_uri": "https://localhost:8080/"
        },
        "id": "GcwPsVMgroO8",
        "outputId": "002bb574-5ea8-4d97-b442-2eb528f5af23"
      },
      "execution_count": 28,
      "outputs": [
        {
          "output_type": "stream",
          "name": "stdout",
          "text": [
            "4/4 [==============================] - 0s 4ms/step - loss: 4.2440 - mae: 4.2440\n"
          ]
        },
        {
          "output_type": "execute_result",
          "data": {
            "text/plain": [
              "[4.243969917297363, 4.243969917297363]"
            ]
          },
          "metadata": {},
          "execution_count": 28
        }
      ]
    },
    {
      "cell_type": "code",
      "source": [
        "# Set random seed\n",
        "tf.random.set_seed(42)\n",
        "\n",
        "#create\n",
        "model_4 = tf.keras.Sequential([\n",
        "    tf.keras.layers.Dense(1000),\n",
        "    tf.keras.layers.Dense(100),\n",
        "    tf.keras.layers.Dense(10),\n",
        "    tf.keras.layers.Dense(1)\n",
        "])\n",
        "\n",
        "#compile\n",
        "model_4.compile(loss = tf.keras.losses.mae,\n",
        "                optimizer = tf.keras.optimizers.Adam(learning_rate=0.01,),\n",
        "                metrics = ['mae'])\n",
        "\n",
        "#fit\n",
        "model_4.fit(x_train, y_train, epochs = 200, verbose = 0)"
      ],
      "metadata": {
        "colab": {
          "base_uri": "https://localhost:8080/"
        },
        "id": "KAQWGCeDsCAJ",
        "outputId": "072654f2-cb59-4831-cc3d-7d5bb87028e8"
      },
      "execution_count": 29,
      "outputs": [
        {
          "output_type": "execute_result",
          "data": {
            "text/plain": [
              "<keras.callbacks.History at 0x7fb8b51c3430>"
            ]
          },
          "metadata": {},
          "execution_count": 29
        }
      ]
    },
    {
      "cell_type": "code",
      "source": [
        "#Check the result \n",
        "model_4_mae = model_4.evaluate(x_test, y_test)\n",
        "model_4_mae"
      ],
      "metadata": {
        "colab": {
          "base_uri": "https://localhost:8080/"
        },
        "id": "Rqti8JKsswL-",
        "outputId": "0eaf30f1-97b8-4061-911e-b3535d604150"
      },
      "execution_count": 30,
      "outputs": [
        {
          "output_type": "stream",
          "name": "stdout",
          "text": [
            "4/4 [==============================] - 0s 3ms/step - loss: 3.7639 - mae: 3.7639\n"
          ]
        },
        {
          "output_type": "execute_result",
          "data": {
            "text/plain": [
              "[3.763939142227173, 3.763939142227173]"
            ]
          },
          "metadata": {},
          "execution_count": 30
        }
      ]
    },
    {
      "cell_type": "code",
      "source": [
        "# Set random seed\n",
        "tf.random.set_seed(42)\n",
        "\n",
        "#create\n",
        "model_5 = tf.keras.Sequential([\n",
        "    tf.keras.layers.Dense(1000),\n",
        "    tf.keras.layers.Dense(100),\n",
        "    tf.keras.layers.Dense(10),\n",
        "    tf.keras.layers.Dense(1)\n",
        "])\n",
        "\n",
        "#compile\n",
        "model_5.compile(loss = tf.keras.losses.mae,\n",
        "                optimizer = tf.keras.optimizers.Adam(learning_rate=0.01,),\n",
        "                metrics = ['mae'])\n",
        "\n",
        "#fit\n",
        "model_5.fit(x_train, y_train, epochs = 300, verbose = 0)"
      ],
      "metadata": {
        "colab": {
          "base_uri": "https://localhost:8080/"
        },
        "id": "XpZzOacrt4Dt",
        "outputId": "103f9a35-222d-447a-edc3-0268e7acca66"
      },
      "execution_count": 31,
      "outputs": [
        {
          "output_type": "execute_result",
          "data": {
            "text/plain": [
              "<keras.callbacks.History at 0x7fb8b50ec040>"
            ]
          },
          "metadata": {},
          "execution_count": 31
        }
      ]
    },
    {
      "cell_type": "code",
      "source": [
        "#Check the result \n",
        "model_5_mae = model_5.evaluate(x_test, y_test)\n",
        "model_5_mae"
      ],
      "metadata": {
        "colab": {
          "base_uri": "https://localhost:8080/"
        },
        "id": "JRFdInTGuFS2",
        "outputId": "cb28cbef-2086-4f7e-89e6-1df2c4a09f7f"
      },
      "execution_count": 32,
      "outputs": [
        {
          "output_type": "stream",
          "name": "stdout",
          "text": [
            "4/4 [==============================] - 0s 4ms/step - loss: 3.3628 - mae: 3.3628\n"
          ]
        },
        {
          "output_type": "execute_result",
          "data": {
            "text/plain": [
              "[3.362781286239624, 3.362781286239624]"
            ]
          },
          "metadata": {},
          "execution_count": 32
        }
      ]
    },
    {
      "cell_type": "code",
      "source": [
        "# Set random seed\n",
        "tf.random.set_seed(42)\n",
        "\n",
        "#create\n",
        "model_6 = tf.keras.Sequential([\n",
        "    tf.keras.layers.Dense(1000),\n",
        "    tf.keras.layers.Dense(100),\n",
        "    tf.keras.layers.Dense(10),\n",
        "    tf.keras.layers.Dense(1)\n",
        "])\n",
        "\n",
        "#compile\n",
        "model_6.compile(loss = tf.keras.losses.mae,\n",
        "                optimizer = tf.keras.optimizers.Adam(learning_rate=0.01,),\n",
        "                metrics = ['mae'])\n",
        "\n",
        "#fit\n",
        "history = model_6.fit(x_train, y_train, epochs = 10, verbose = 0)"
      ],
      "metadata": {
        "id": "ChJRLMDVuK3c"
      },
      "execution_count": 50,
      "outputs": []
    },
    {
      "cell_type": "code",
      "source": [
        "#Check the result \n",
        "model_6_mae = model_6.evaluate(x_test, y_test)\n",
        "model_6_mae"
      ],
      "metadata": {
        "colab": {
          "base_uri": "https://localhost:8080/"
        },
        "id": "ZbLztgf8ucGt",
        "outputId": "8857dbf9-71ea-4e7d-f4d9-088625339504"
      },
      "execution_count": 51,
      "outputs": [
        {
          "output_type": "stream",
          "name": "stdout",
          "text": [
            "4/4 [==============================] - 0s 3ms/step - loss: 6.8373 - mae: 6.8373\n"
          ]
        },
        {
          "output_type": "execute_result",
          "data": {
            "text/plain": [
              "[6.837253570556641, 6.837253570556641]"
            ]
          },
          "metadata": {},
          "execution_count": 51
        }
      ]
    },
    {
      "cell_type": "code",
      "source": [
        "# Let's plot the loss curve Vs Epochs \n",
        "pd.DataFrame(history.history).plot()\n",
        "plt.ylabel('Loss')\n",
        "plt.xlabel('Epochs')\n",
        "     "
      ],
      "metadata": {
        "colab": {
          "base_uri": "https://localhost:8080/",
          "height": 296
        },
        "id": "y2_VbdlKuhRx",
        "outputId": "9291a106-94c3-4f25-c5fd-1d666df8475a"
      },
      "execution_count": 52,
      "outputs": [
        {
          "output_type": "execute_result",
          "data": {
            "text/plain": [
              "Text(0.5, 0, 'Epochs')"
            ]
          },
          "metadata": {},
          "execution_count": 52
        },
        {
          "output_type": "display_data",
          "data": {
            "text/plain": [
              "<Figure size 432x288 with 1 Axes>"
            ],
            "image/png": "[encoded data removed]"
          },
          "metadata": {
            "needs_background": "light"
          }
        }
      ]
    },
    {
      "cell_type": "code",
      "source": [
        "y_preds = model_6.predict(x_test)\n",
        "y_preds"
      ],
      "metadata": {
        "colab": {
          "base_uri": "https://localhost:8080/"
        },
        "id": "FSrQuXCgz770",
        "outputId": "378af58a-6a46-4863-911c-4b4d867c4cdf"
      },
      "execution_count": 53,
      "outputs": [
        {
          "output_type": "stream",
          "name": "stdout",
          "text": [
            "4/4 [==============================] - 0s 4ms/step\n"
          ]
        },
        {
          "output_type": "execute_result",
          "data": {
            "text/plain": [
              "array([[ 9.889442 ],\n",
              "       [21.070219 ],\n",
              "       [18.618498 ],\n",
              "       [20.2025   ],\n",
              "       [19.016033 ],\n",
              "       [20.490578 ],\n",
              "       [29.180304 ],\n",
              "       [23.17766  ],\n",
              "       [15.91221  ],\n",
              "       [25.213911 ],\n",
              "       [11.197654 ],\n",
              "       [19.185793 ],\n",
              "       [20.91297  ],\n",
              "       [18.78979  ],\n",
              "       [20.932909 ],\n",
              "       [23.471365 ],\n",
              "       [19.634424 ],\n",
              "       [21.111015 ],\n",
              "       [24.891582 ],\n",
              "       [25.839338 ],\n",
              "       [20.806616 ],\n",
              "       [12.086811 ],\n",
              "       [18.590782 ],\n",
              "       [22.273357 ],\n",
              "       [31.079916 ],\n",
              "       [25.520567 ],\n",
              "       [20.136024 ],\n",
              "       [31.337988 ],\n",
              "       [12.710225 ],\n",
              "       [22.433174 ],\n",
              "       [21.544477 ],\n",
              "       [13.994723 ],\n",
              "       [25.445417 ],\n",
              "       [19.26131  ],\n",
              "       [23.833923 ],\n",
              "       [20.150461 ],\n",
              "       [17.63958  ],\n",
              "       [15.2260475],\n",
              "       [26.13647  ],\n",
              "       [31.09514  ],\n",
              "       [21.64252  ],\n",
              "       [18.643774 ],\n",
              "       [24.178293 ],\n",
              "       [19.984772 ],\n",
              "       [18.862455 ],\n",
              "       [17.177681 ],\n",
              "       [23.173573 ],\n",
              "       [18.933598 ],\n",
              "       [25.710878 ],\n",
              "       [19.152079 ],\n",
              "       [32.04725  ],\n",
              "       [18.54309  ],\n",
              "       [22.526035 ],\n",
              "       [18.710926 ],\n",
              "       [28.216974 ],\n",
              "       [19.353937 ],\n",
              "       [23.227783 ],\n",
              "       [21.768148 ],\n",
              "       [25.612585 ],\n",
              "       [19.130312 ],\n",
              "       [24.895676 ],\n",
              "       [24.246223 ],\n",
              "       [16.524132 ],\n",
              "       [20.810396 ],\n",
              "       [20.147192 ],\n",
              "       [31.55872  ],\n",
              "       [21.337572 ],\n",
              "       [27.324848 ],\n",
              "       [21.163113 ],\n",
              "       [20.894503 ],\n",
              "       [25.694109 ],\n",
              "       [24.191133 ],\n",
              "       [25.560408 ],\n",
              "       [22.876766 ],\n",
              "       [24.461887 ],\n",
              "       [21.328823 ],\n",
              "       [22.444166 ],\n",
              "       [18.870602 ],\n",
              "       [21.615847 ],\n",
              "       [20.681814 ],\n",
              "       [19.016283 ],\n",
              "       [21.97043  ],\n",
              "       [22.69901  ],\n",
              "       [23.709341 ],\n",
              "       [19.617388 ],\n",
              "       [20.556122 ],\n",
              "       [23.780888 ],\n",
              "       [18.393778 ],\n",
              "       [19.308538 ],\n",
              "       [26.278574 ],\n",
              "       [17.452486 ],\n",
              "       [30.435019 ],\n",
              "       [23.733849 ],\n",
              "       [24.716204 ],\n",
              "       [21.529776 ],\n",
              "       [19.646212 ],\n",
              "       [21.755287 ],\n",
              "       [26.038671 ],\n",
              "       [21.394522 ],\n",
              "       [22.582508 ],\n",
              "       [20.310057 ],\n",
              "       [15.976923 ]], dtype=float32)"
            ]
          },
          "metadata": {},
          "execution_count": 53
        }
      ]
    },
    {
      "cell_type": "code",
      "source": [
        "def plot_predictions(train_data=x_train, \n",
        "                     train_labels=y_train, \n",
        "                     test_data=x_test, \n",
        "                     test_labels=y_test, \n",
        "                     predictions=y_preds):\n",
        "  \"\"\"\n",
        "  Plots training data, test data and compares predictions.\n",
        "  \"\"\"\n",
        "  plt.figure(figsize=(10, 7))\n",
        "  # Plot training data in blue\n",
        "  # plt.scatter(train_data, train_labels, c=\"b\", label=\"Training data\")\n",
        "  # Plot test data in green\n",
        "  plt.scatter(test_data, test_labels, c=\"g\", label=\"Testing data\")\n",
        "  # Plot the predictions in red (predictions were made on the test data)\n",
        "  plt.scatter(test_data, predictions, c=\"r\", label=\"Predictions\")\n",
        "  # Show the legend\n",
        "  plt.legend();"
      ],
      "metadata": {
        "id": "jEXME74Wx2JX"
      },
      "execution_count": 58,
      "outputs": []
    },
    {
      "cell_type": "code",
      "source": [
        "plot_predictions(train_data=x_train[:,0],\n",
        "                 train_labels=y_train,\n",
        "                 test_data=x_test[:,0],\n",
        "                 test_labels=y_test,\n",
        "                 predictions=y_preds)"
      ],
      "metadata": {
        "colab": {
          "base_uri": "https://localhost:8080/",
          "height": 428
        },
        "id": "R0lrmtpE0jyQ",
        "outputId": "7d4ad9a7-873a-4b5b-da20-7772d3b75e18"
      },
      "execution_count": 59,
      "outputs": [
        {
          "output_type": "display_data",
          "data": {
            "text/plain": [
              "<Figure size 720x504 with 1 Axes>"
            ],
            "image/png": "[encoded data removed]"
          },
          "metadata": {
            "needs_background": "light"
          }
        }
      ]
    },
    {
      "cell_type": "code",
      "source": [],
      "metadata": {
        "id": "VRYb2Smc0mc2"
      },
      "execution_count": null,
      "outputs": []
    }
  ]
}