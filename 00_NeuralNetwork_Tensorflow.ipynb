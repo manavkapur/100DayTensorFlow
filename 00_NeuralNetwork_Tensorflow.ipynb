{
  "nbformat": 4,
  "nbformat_minor": 0,
  "metadata": {
    "colab": {
      "provenance": [],
      "authorship_tag": "ABX9TyOccna2ynrNiiIS6ed85VYP",
      "include_colab_link": true
    },
    "kernelspec": {
      "name": "python3",
      "display_name": "Python 3"
    },
    "language_info": {
      "name": "python"
    }
  },
  "cells": [
    {
      "cell_type": "markdown",
      "metadata": {
        "id": "view-in-github",
        "colab_type": "text"
      },
      "source": [
        "<a href=\"https://colab.research.google.com/github/manavkapur/100DayTensorFlow/blob/main/00_NeuralNetwork_Tensorflow.ipynb\" target=\"_parent\"><img src=\"https://colab.research.google.com/assets/colab-badge.svg\" alt=\"Open In Colab\"/></a>"
      ]
    },
    {
      "cell_type": "markdown",
      "source": [
        "## Typical architecture of a regresison neural network\n",
        "\n",
        "The word *typical* is on purpose.\n",
        "\n",
        "Why?\n",
        "\n",
        "Because there are many different ways (actually, there's almost an infinite number of ways) to write neural networks.\n",
        "\n",
        "But the following is a generic setup for ingesting a collection of numbers, finding patterns in them and then outputing some kind of target number.\n",
        "\n",
        "Yes, the previous sentence is vague but we'll see this in action shortly.\n",
        "\n",
        "| **Hyperparameter** | **Typical value** |\n",
        "| --- | --- |\n",
        "| Input layer shape | Same shape as number of features (e.g. 3 for # bedrooms, # bathrooms, # car spaces in housing price prediction) |\n",
        "| Hidden layer(s) | Problem specific, minimum = 1, maximum = unlimited |\n",
        "| Neurons per hidden layer | Problem specific, generally 10 to 100 |\n",
        "| Output layer shape | Same shape as desired prediction shape (e.g. 1 for house price) |\n",
        "| Hidden activation | Usually [ReLU](https://www.kaggle.com/dansbecker/rectified-linear-units-relu-in-deep-learning) (rectified linear unit) |\n",
        "| Output activation | None, ReLU, logistic/tanh |\n",
        "| Loss function | [MSE](https://en.wikipedia.org/wiki/Mean_squared_error) (mean square error) or [MAE](https://en.wikipedia.org/wiki/Mean_absolute_error) (mean absolute error)/Huber (combination of MAE/MSE) if outliers |\n",
        "| Optimizer | [SGD](https://www.tensorflow.org/api_docs/python/tf/keras/optimizers/SGD) (stochastic gradient descent), [Adam](https://www.tensorflow.org/api_docs/python/tf/keras/optimizers/Adam) |\n",
        "\n",
        "***Table 1:*** *Typical architecture of a regression network.* ***Source:*** *Adapted from page 293 of [Hands-On Machine Learning with Scikit-Learn, Keras & TensorFlow Book by Aurélien Géron](https://www.oreilly.com/library/view/hands-on-machine-learning/9781492032632/)*\n",
        "\n",
        "Again, if you're new to neural networks and deep learning in general, much of the above table won't make sense. But don't worry, we'll be getting hands-on with all of it soon.\n",
        "\n",
        "> 🔑 **Note:** A **hyperparameter** in machine learning is something a data analyst or developer can set themselves, where as a **parameter** usually describes something a model learns on its own (a value not explicitly set by an analyst).\n",
        "\n",
        "Okay, enough talk, let's get started writing code.\n",
        "\n",
        "To use TensorFlow, we'll import it as the common alias `tf` (short for TensorFlow)."
      ],
      "metadata": {
        "id": "nK6eWAQsCwfL"
      }
    },
    {
      "cell_type": "code",
      "source": [
        "import tensorflow as tf"
      ],
      "metadata": {
        "id": "859bvD6n_E0y"
      },
      "execution_count": 1,
      "outputs": []
    },
    {
      "cell_type": "markdown",
      "metadata": {
        "id": "8clMYxrF6Mzv"
      },
      "source": [
        "## Creating data to view and fit\n",
        "\n",
        "Since we're working on a **regression problem** (predicting a number) let's create some linear data (a straight line) to model."
      ]
    },
    {
      "cell_type": "code",
      "source": [
        "import numpy as np\n",
        "import matplotlib.pyplot as plt\n",
        "\n",
        "#creature features \n",
        "\n",
        "X = np.array([-7.0, -4.0, -1.0, 2.0, 5.0, 8.0, 11.0, 14.0])\n",
        "\n",
        "#create labels\n",
        "y = np.array([3.0, 6.0, 9.0, 12.0, 15.0, 18.0, 21.0, 24.0])\n",
        "\n",
        "#Visualize it\n",
        "plt.scatter(X,y)"
      ],
      "metadata": {
        "colab": {
          "base_uri": "https://localhost:8080/",
          "height": 286
        },
        "id": "u2sTE0PS_KDD",
        "outputId": "fcb7d672-e1bc-419e-ec9d-6b6b11e61c57"
      },
      "execution_count": 2,
      "outputs": [
        {
          "output_type": "execute_result",
          "data": {
            "text/plain": [
              "<matplotlib.collections.PathCollection at 0x7fd0c4800580>"
            ]
          },
          "metadata": {},
          "execution_count": 2
        },
        {
          "output_type": "display_data",
          "data": {
            "text/plain": [
              "<Figure size 432x288 with 1 Axes>"
            ],
            "image/png": "[encoded data removed]"
          },
          "metadata": {
            "needs_background": "light"
          }
        }
      ]
    },
    {
      "cell_type": "markdown",
      "metadata": {
        "id": "9ONZF8un7_xy"
      },
      "source": [
        "Before we do any modelling, can you calculate the pattern between `X` and `y`?\n",
        "\n",
        "For example, say I asked you, based on this data what the `y` value would be if `X` was 17.0?\n",
        "\n",
        "Or how about if `X` was -10.0?\n",
        "\n",
        "This kind of pattern discovery is the essence of what we'll be building neural networks to do for us."
      ]
    },
    {
      "cell_type": "markdown",
      "metadata": {
        "id": "zNCXxHnF6jjZ"
      },
      "source": [
        "## Regression input shapes and output shapes\n",
        "\n",
        "One of the most important concepts when working with neural networks are the input and output shapes.\n",
        "\n",
        "The **input shape** is the shape of your data that goes into the model.\n",
        "\n",
        "The **output shape** is the shape of your data you want to come out of your model.\n",
        "\n",
        "These will differ depending on the problem you're working on.\n",
        "\n",
        "Neural networks accept numbers and output numbers. These numbers are typically represented as tensors (or arrays).\n",
        "\n",
        "Before, we created data using NumPy arrays, but we could do the same with tensors."
      ]
    },
    {
      "cell_type": "code",
      "source": [
        "#Example input and output shapes of regression model\n",
        "house_info = tf.constant([\"bedroom\", \"bathroom\", \"garage\"])\n",
        "house_price = tf.constant([939700])\n",
        "house_info, house_price"
      ],
      "metadata": {
        "colab": {
          "base_uri": "https://localhost:8080/"
        },
        "id": "9KkPPQgRElg7",
        "outputId": "08271f8f-cccb-4767-8444-ce7603120c00"
      },
      "execution_count": 3,
      "outputs": [
        {
          "output_type": "execute_result",
          "data": {
            "text/plain": [
              "(<tf.Tensor: shape=(3,), dtype=string, numpy=array([b'bedroom', b'bathroom', b'garage'], dtype=object)>,\n",
              " <tf.Tensor: shape=(1,), dtype=int32, numpy=array([939700], dtype=int32)>)"
            ]
          },
          "metadata": {},
          "execution_count": 3
        }
      ]
    },
    {
      "cell_type": "code",
      "source": [
        "house_info.shape"
      ],
      "metadata": {
        "colab": {
          "base_uri": "https://localhost:8080/"
        },
        "id": "fTAnFmZ1LaCj",
        "outputId": "b805c0d2-b71a-47ec-bac7-c23e1cd079fb"
      },
      "execution_count": 4,
      "outputs": [
        {
          "output_type": "execute_result",
          "data": {
            "text/plain": [
              "TensorShape([3])"
            ]
          },
          "metadata": {},
          "execution_count": 4
        }
      ]
    },
    {
      "cell_type": "code",
      "source": [
        "#Take a single example of X\n",
        "input_shape = X[0].shape\n",
        "\n",
        "#Take a single example of y\n",
        "output_shape = y[0].shape\n",
        "\n",
        "input_shape, output_shape #these are both scalar (np shape)"
      ],
      "metadata": {
        "colab": {
          "base_uri": "https://localhost:8080/"
        },
        "id": "0plEBUyyLlp3",
        "outputId": "e9195ddf-ac96-4cfc-8718-fff24a425770"
      },
      "execution_count": 5,
      "outputs": [
        {
          "output_type": "execute_result",
          "data": {
            "text/plain": [
              "((), ())"
            ]
          },
          "metadata": {},
          "execution_count": 5
        }
      ]
    },
    {
      "cell_type": "code",
      "source": [
        "#Turn numpy array into tenors\n",
        "X = tf.cast(tf.constant(X),dtype = tf.float32)\n",
        "y = tf.cast(tf.constant(y),dtype = tf.float32)\n",
        "X, y\n"
      ],
      "metadata": {
        "colab": {
          "base_uri": "https://localhost:8080/"
        },
        "id": "9l_aoyllMHjp",
        "outputId": "c7989b46-d17a-4639-c886-39a2803ecda6"
      },
      "execution_count": 6,
      "outputs": [
        {
          "output_type": "execute_result",
          "data": {
            "text/plain": [
              "(<tf.Tensor: shape=(8,), dtype=float32, numpy=array([-7., -4., -1.,  2.,  5.,  8., 11., 14.], dtype=float32)>,\n",
              " <tf.Tensor: shape=(8,), dtype=float32, numpy=array([ 3.,  6.,  9., 12., 15., 18., 21., 24.], dtype=float32)>)"
            ]
          },
          "metadata": {},
          "execution_count": 6
        }
      ]
    },
    {
      "cell_type": "code",
      "source": [
        "input_shape =  X[0].shape\n",
        "output_shape = y[0].shape\n",
        "input_shape, output_shape"
      ],
      "metadata": {
        "colab": {
          "base_uri": "https://localhost:8080/"
        },
        "id": "ygKrhfJKR_sB",
        "outputId": "35f30f5d-f57e-4c55-9211-e8f93d9cf6fc"
      },
      "execution_count": 7,
      "outputs": [
        {
          "output_type": "execute_result",
          "data": {
            "text/plain": [
              "(TensorShape([]), TensorShape([]))"
            ]
          },
          "metadata": {},
          "execution_count": 7
        }
      ]
    },
    {
      "cell_type": "code",
      "source": [
        "plt.scatter(X, y)"
      ],
      "metadata": {
        "colab": {
          "base_uri": "https://localhost:8080/",
          "height": 286
        },
        "id": "fuFFhXVwSLcR",
        "outputId": "24660d10-7e01-4f13-fa45-fd839ca6c29b"
      },
      "execution_count": 8,
      "outputs": [
        {
          "output_type": "execute_result",
          "data": {
            "text/plain": [
              "<matplotlib.collections.PathCollection at 0x7fd0c05f7af0>"
            ]
          },
          "metadata": {},
          "execution_count": 8
        },
        {
          "output_type": "display_data",
          "data": {
            "text/plain": [
              "<Figure size 432x288 with 1 Axes>"
            ],
            "image/png": "[encoded data removed]"
          },
          "metadata": {
            "needs_background": "light"
          }
        }
      ]
    },
    {
      "cell_type": "markdown",
      "metadata": {
        "id": "PhAIqjrn6olF"
      },
      "source": [
        "## Steps in modelling with TensorFlow\n",
        "\n",
        "Now we know what data we have as well as the input and output shapes, let's see how we'd build a neural network to model it.\n",
        "\n",
        "In TensorFlow, there are typically 3 fundamental steps to creating and training a model.\n",
        "\n",
        "1. **Creating a model** - piece together the layers of a neural network yourself (using the [Functional](https://www.tensorflow.org/guide/keras/functional) or [Sequential API](https://www.tensorflow.org/api_docs/python/tf/keras/Sequential)) or import a previously built model (known as transfer learning).\n",
        "2. **Compiling a model** - defining how a models performance should be measured (loss/metrics) as well as defining how it should improve (optimizer). \n",
        "3. **Fitting a model** - letting the model try to find patterns in the data (how does `X` get to `y`). \n",
        "\n",
        "Let's see these in action using the [Keras Sequential API](https://www.tensorflow.org/api_docs/python/tf/keras/Sequential) to build a model for our regression data. And then we'll step through each.\n",
        "\n",
        "> **Note:** If you're using [TensorFlow 2.7.0](https://github.com/tensorflow/tensorflow/releases/tag/v2.7.0)+, the `fit()` function no longer upscales input data to go from `(batch_size, )` to `(batch_size, 1)`. To fix this, you'll need to expand the dimension of input data using `tf.expand_dims(input_data, axis=-1)`.\n",
        ">\n",
        "> In our case, this means instead of using `model.fit(X, y, epochs=5)`, use `model.fit(tf.expand_dims(X, axis=-1), y, epochs=5)`. "
      ]
    },
    {
      "cell_type": "code",
      "source": [
        "# Set random seed\n",
        "\n",
        "# Create a model using the sequential api\n",
        "\n",
        "model = tf.keras.Sequential([\n",
        "    tf.keras.layers.Dense(1),\n",
        "])\n",
        "\n",
        "#Compile the model\n",
        "model.compile(loss = tf.keras.losses.mae, #mar is short for mean absolute error\n",
        "              optimizer = tf.keras.optimizers.SGD(), #sgd is short for stochastic gradient\n",
        "              metrics = [\"mae\"])\n",
        "\n",
        "#fit the model\n",
        "model.fit(tf.expand_dims(X,axis=-1), y, epochs = 5)\n"
      ],
      "metadata": {
        "colab": {
          "base_uri": "https://localhost:8080/"
        },
        "id": "oVhF0AzXTz5Z",
        "outputId": "267fc45c-99a5-405d-dce3-741f015dec2f"
      },
      "execution_count": 9,
      "outputs": [
        {
          "output_type": "stream",
          "name": "stdout",
          "text": [
            "Epoch 1/5\n",
            "1/1 [==============================] - 1s 526ms/step - loss: 11.3495 - mae: 11.3495\n",
            "Epoch 2/5\n",
            "1/1 [==============================] - 0s 8ms/step - loss: 11.2170 - mae: 11.2170\n",
            "Epoch 3/5\n",
            "1/1 [==============================] - 0s 10ms/step - loss: 11.0845 - mae: 11.0845\n",
            "Epoch 4/5\n",
            "1/1 [==============================] - 0s 8ms/step - loss: 10.9520 - mae: 10.9520\n",
            "Epoch 5/5\n",
            "1/1 [==============================] - 0s 10ms/step - loss: 10.8195 - mae: 10.8195\n"
          ]
        },
        {
          "output_type": "execute_result",
          "data": {
            "text/plain": [
              "<keras.callbacks.History at 0x7fd0bfc78700>"
            ]
          },
          "metadata": {},
          "execution_count": 9
        }
      ]
    },
    {
      "cell_type": "code",
      "source": [
        "X, y "
      ],
      "metadata": {
        "colab": {
          "base_uri": "https://localhost:8080/"
        },
        "id": "6PuxhAegjio7",
        "outputId": "a55fc501-7e9e-4878-c3b2-b408da1eab9c"
      },
      "execution_count": 10,
      "outputs": [
        {
          "output_type": "execute_result",
          "data": {
            "text/plain": [
              "(<tf.Tensor: shape=(8,), dtype=float32, numpy=array([-7., -4., -1.,  2.,  5.,  8., 11., 14.], dtype=float32)>,\n",
              " <tf.Tensor: shape=(8,), dtype=float32, numpy=array([ 3.,  6.,  9., 12., 15., 18., 21., 24.], dtype=float32)>)"
            ]
          },
          "metadata": {},
          "execution_count": 10
        }
      ]
    },
    {
      "cell_type": "code",
      "source": [
        "model.predict([17.0])"
      ],
      "metadata": {
        "colab": {
          "base_uri": "https://localhost:8080/"
        },
        "id": "UE53-uZWor2v",
        "outputId": "1a975706-e2ce-4513-c40d-15f429a6fe4e"
      },
      "execution_count": 11,
      "outputs": [
        {
          "output_type": "stream",
          "name": "stdout",
          "text": [
            "1/1 [==============================] - 0s 78ms/step\n"
          ]
        },
        {
          "output_type": "execute_result",
          "data": {
            "text/plain": [
              "array([[13.470488]], dtype=float32)"
            ]
          },
          "metadata": {},
          "execution_count": 11
        }
      ]
    },
    {
      "cell_type": "markdown",
      "metadata": {
        "id": "qAPk1T3xgOm4"
      },
      "source": [
        "## Improving a model\n",
        "\n",
        "How do you think you'd improve upon our current model?\n",
        "\n",
        "If you guessed by tweaking some of the things we did above, you'd be correct.\n",
        "\n",
        "To improve our model, we alter almost every part of the 3 steps we went through before.\n",
        "\n",
        "1. **Creating a model** - here you might want to add more layers, increase the number of hidden units (also called neurons) within each layer, change the activation functions of each layer.\n",
        "2. **Compiling a model** - you might want to choose optimization function or perhaps change the **learning rate** of the optimization function.\n",
        "3. **Fitting a model** - perhaps you could fit a model for more **epochs** (leave it training for longer) or on more data (give the model more examples to learn from).\n",
        "\n",
        "![various options you can use to improve a neural network model](https://raw.githubusercontent.com/mrdbourke/tensorflow-deep-learning/main/images/02-improving-a-model-from-model-perspective.png)\n",
        "*There are many different ways to potentially improve a neural network. Some of the most common include: increasing the number of layers (making the network deeper), increasing the number of hidden units (making the network wider) and changing the learning rate. Because these values are all human-changeable, they're referred to as [hyperparameters](https://en.wikipedia.org/wiki/Hyperparameter_(machine_learning)) and the practice of trying to find the best hyperparameters is referred to as [hyperparameter tuning](https://en.wikipedia.org/wiki/Hyperparameter_optimization).*\n",
        "\n",
        "Woah. We just introduced a bunch of possible steps. The important thing to remember is how you alter each of these will depend on the problem you're working on.\n",
        "\n",
        "And the good thing is, over the next few problems, we'll get hands-on with all of them.\n",
        "\n",
        "For now, let's keep it simple, all we'll do is train our model for longer (everything else will stay the same)."
      ]
    },
    {
      "cell_type": "code",
      "source": [
        "#rebuild\n",
        "\n",
        "#create\n",
        "\n",
        "model = tf.keras.Sequential([\n",
        "    tf.keras.layers.Dense(1),\n",
        "])\n",
        "\n",
        "#Compile\n",
        "\n",
        "model.compile(loss = tf.keras.losses.mae,\n",
        "              optimizer=tf.keras.optimizers.SGD(),\n",
        "              metrics=[\"mae\"]) \n",
        "\n",
        "#fit the model\n",
        "\n",
        "model.fit(tf.expand_dims(X, axis=-1), y, epochs = 100)\n"
      ],
      "metadata": {
        "colab": {
          "base_uri": "https://localhost:8080/"
        },
        "id": "V2iwtVmPowf7",
        "outputId": "69bc1fd6-6918-4575-8130-a477dbd15e6f"
      },
      "execution_count": 12,
      "outputs": [
        {
          "output_type": "stream",
          "name": "stdout",
          "text": [
            "Epoch 1/100\n",
            "1/1 [==============================] - 0s 299ms/step - loss: 7.9275 - mae: 7.9275\n",
            "Epoch 2/100\n",
            "1/1 [==============================] - 0s 12ms/step - loss: 7.7950 - mae: 7.7950\n",
            "Epoch 3/100\n",
            "1/1 [==============================] - 0s 12ms/step - loss: 7.6625 - mae: 7.6625\n",
            "Epoch 4/100\n",
            "1/1 [==============================] - 0s 12ms/step - loss: 7.5300 - mae: 7.5300\n",
            "Epoch 5/100\n",
            "1/1 [==============================] - 0s 10ms/step - loss: 7.4700 - mae: 7.4700\n",
            "Epoch 6/100\n",
            "1/1 [==============================] - 0s 13ms/step - loss: 7.4644 - mae: 7.4644\n",
            "Epoch 7/100\n",
            "1/1 [==============================] - 0s 9ms/step - loss: 7.4587 - mae: 7.4587\n",
            "Epoch 8/100\n",
            "1/1 [==============================] - 0s 6ms/step - loss: 7.4531 - mae: 7.4531\n",
            "Epoch 9/100\n",
            "1/1 [==============================] - 0s 8ms/step - loss: 7.4475 - mae: 7.4475\n",
            "Epoch 10/100\n",
            "1/1 [==============================] - 0s 11ms/step - loss: 7.4419 - mae: 7.4419\n",
            "Epoch 11/100\n",
            "1/1 [==============================] - 0s 8ms/step - loss: 7.4362 - mae: 7.4362\n",
            "Epoch 12/100\n",
            "1/1 [==============================] - 0s 9ms/step - loss: 7.4306 - mae: 7.4306\n",
            "Epoch 13/100\n",
            "1/1 [==============================] - 0s 9ms/step - loss: 7.4250 - mae: 7.4250\n",
            "Epoch 14/100\n",
            "1/1 [==============================] - 0s 13ms/step - loss: 7.4194 - mae: 7.4194\n",
            "Epoch 15/100\n",
            "1/1 [==============================] - 0s 9ms/step - loss: 7.4138 - mae: 7.4138\n",
            "Epoch 16/100\n",
            "1/1 [==============================] - 0s 10ms/step - loss: 7.4081 - mae: 7.4081\n",
            "Epoch 17/100\n",
            "1/1 [==============================] - 0s 19ms/step - loss: 7.4025 - mae: 7.4025\n",
            "Epoch 18/100\n",
            "1/1 [==============================] - 0s 8ms/step - loss: 7.3969 - mae: 7.3969\n",
            "Epoch 19/100\n",
            "1/1 [==============================] - 0s 8ms/step - loss: 7.3913 - mae: 7.3913\n",
            "Epoch 20/100\n",
            "1/1 [==============================] - 0s 6ms/step - loss: 7.3856 - mae: 7.3856\n",
            "Epoch 21/100\n",
            "1/1 [==============================] - 0s 7ms/step - loss: 7.3800 - mae: 7.3800\n",
            "Epoch 22/100\n",
            "1/1 [==============================] - 0s 6ms/step - loss: 7.3744 - mae: 7.3744\n",
            "Epoch 23/100\n",
            "1/1 [==============================] - 0s 6ms/step - loss: 7.3688 - mae: 7.3688\n",
            "Epoch 24/100\n",
            "1/1 [==============================] - 0s 6ms/step - loss: 7.3631 - mae: 7.3631\n",
            "Epoch 25/100\n",
            "1/1 [==============================] - 0s 6ms/step - loss: 7.3575 - mae: 7.3575\n",
            "Epoch 26/100\n",
            "1/1 [==============================] - 0s 6ms/step - loss: 7.3519 - mae: 7.3519\n",
            "Epoch 27/100\n",
            "1/1 [==============================] - 0s 6ms/step - loss: 7.3463 - mae: 7.3463\n",
            "Epoch 28/100\n",
            "1/1 [==============================] - 0s 6ms/step - loss: 7.3406 - mae: 7.3406\n",
            "Epoch 29/100\n",
            "1/1 [==============================] - 0s 6ms/step - loss: 7.3350 - mae: 7.3350\n",
            "Epoch 30/100\n",
            "1/1 [==============================] - 0s 6ms/step - loss: 7.3294 - mae: 7.3294\n",
            "Epoch 31/100\n",
            "1/1 [==============================] - 0s 6ms/step - loss: 7.3238 - mae: 7.3238\n",
            "Epoch 32/100\n",
            "1/1 [==============================] - 0s 6ms/step - loss: 7.3181 - mae: 7.3181\n",
            "Epoch 33/100\n",
            "1/1 [==============================] - 0s 6ms/step - loss: 7.3125 - mae: 7.3125\n",
            "Epoch 34/100\n",
            "1/1 [==============================] - 0s 8ms/step - loss: 7.3069 - mae: 7.3069\n",
            "Epoch 35/100\n",
            "1/1 [==============================] - 0s 6ms/step - loss: 7.3012 - mae: 7.3012\n",
            "Epoch 36/100\n",
            "1/1 [==============================] - 0s 8ms/step - loss: 7.2956 - mae: 7.2956\n",
            "Epoch 37/100\n",
            "1/1 [==============================] - 0s 7ms/step - loss: 7.2900 - mae: 7.2900\n",
            "Epoch 38/100\n",
            "1/1 [==============================] - 0s 6ms/step - loss: 7.2844 - mae: 7.2844\n",
            "Epoch 39/100\n",
            "1/1 [==============================] - 0s 7ms/step - loss: 7.2787 - mae: 7.2787\n",
            "Epoch 40/100\n",
            "1/1 [==============================] - 0s 7ms/step - loss: 7.2731 - mae: 7.2731\n",
            "Epoch 41/100\n",
            "1/1 [==============================] - 0s 14ms/step - loss: 7.2675 - mae: 7.2675\n",
            "Epoch 42/100\n",
            "1/1 [==============================] - 0s 9ms/step - loss: 7.2619 - mae: 7.2619\n",
            "Epoch 43/100\n",
            "1/1 [==============================] - 0s 7ms/step - loss: 7.2562 - mae: 7.2562\n",
            "Epoch 44/100\n",
            "1/1 [==============================] - 0s 7ms/step - loss: 7.2506 - mae: 7.2506\n",
            "Epoch 45/100\n",
            "1/1 [==============================] - 0s 6ms/step - loss: 7.2450 - mae: 7.2450\n",
            "Epoch 46/100\n",
            "1/1 [==============================] - 0s 6ms/step - loss: 7.2394 - mae: 7.2394\n",
            "Epoch 47/100\n",
            "1/1 [==============================] - 0s 7ms/step - loss: 7.2338 - mae: 7.2338\n",
            "Epoch 48/100\n",
            "1/1 [==============================] - 0s 7ms/step - loss: 7.2281 - mae: 7.2281\n",
            "Epoch 49/100\n",
            "1/1 [==============================] - 0s 8ms/step - loss: 7.2225 - mae: 7.2225\n",
            "Epoch 50/100\n",
            "1/1 [==============================] - 0s 7ms/step - loss: 7.2169 - mae: 7.2169\n",
            "Epoch 51/100\n",
            "1/1 [==============================] - 0s 6ms/step - loss: 7.2113 - mae: 7.2113\n",
            "Epoch 52/100\n",
            "1/1 [==============================] - 0s 7ms/step - loss: 7.2056 - mae: 7.2056\n",
            "Epoch 53/100\n",
            "1/1 [==============================] - 0s 7ms/step - loss: 7.2000 - mae: 7.2000\n",
            "Epoch 54/100\n",
            "1/1 [==============================] - 0s 7ms/step - loss: 7.1944 - mae: 7.1944\n",
            "Epoch 55/100\n",
            "1/1 [==============================] - 0s 7ms/step - loss: 7.1888 - mae: 7.1888\n",
            "Epoch 56/100\n",
            "1/1 [==============================] - 0s 7ms/step - loss: 7.1831 - mae: 7.1831\n",
            "Epoch 57/100\n",
            "1/1 [==============================] - 0s 7ms/step - loss: 7.1775 - mae: 7.1775\n",
            "Epoch 58/100\n",
            "1/1 [==============================] - 0s 6ms/step - loss: 7.1719 - mae: 7.1719\n",
            "Epoch 59/100\n",
            "1/1 [==============================] - 0s 8ms/step - loss: 7.1663 - mae: 7.1663\n",
            "Epoch 60/100\n",
            "1/1 [==============================] - 0s 12ms/step - loss: 7.1606 - mae: 7.1606\n",
            "Epoch 61/100\n",
            "1/1 [==============================] - 0s 6ms/step - loss: 7.1550 - mae: 7.1550\n",
            "Epoch 62/100\n",
            "1/1 [==============================] - 0s 6ms/step - loss: 7.1494 - mae: 7.1494\n",
            "Epoch 63/100\n",
            "1/1 [==============================] - 0s 7ms/step - loss: 7.1438 - mae: 7.1438\n",
            "Epoch 64/100\n",
            "1/1 [==============================] - 0s 6ms/step - loss: 7.1381 - mae: 7.1381\n",
            "Epoch 65/100\n",
            "1/1 [==============================] - 0s 8ms/step - loss: 7.1325 - mae: 7.1325\n",
            "Epoch 66/100\n",
            "1/1 [==============================] - 0s 6ms/step - loss: 7.1269 - mae: 7.1269\n",
            "Epoch 67/100\n",
            "1/1 [==============================] - 0s 6ms/step - loss: 7.1213 - mae: 7.1213\n",
            "Epoch 68/100\n",
            "1/1 [==============================] - 0s 6ms/step - loss: 7.1156 - mae: 7.1156\n",
            "Epoch 69/100\n",
            "1/1 [==============================] - 0s 6ms/step - loss: 7.1100 - mae: 7.1100\n",
            "Epoch 70/100\n",
            "1/1 [==============================] - 0s 6ms/step - loss: 7.1044 - mae: 7.1044\n",
            "Epoch 71/100\n",
            "1/1 [==============================] - 0s 5ms/step - loss: 7.0988 - mae: 7.0988\n",
            "Epoch 72/100\n",
            "1/1 [==============================] - 0s 15ms/step - loss: 7.0931 - mae: 7.0931\n",
            "Epoch 73/100\n",
            "1/1 [==============================] - 0s 18ms/step - loss: 7.0875 - mae: 7.0875\n",
            "Epoch 74/100\n",
            "1/1 [==============================] - 0s 13ms/step - loss: 7.0819 - mae: 7.0819\n",
            "Epoch 75/100\n",
            "1/1 [==============================] - 0s 14ms/step - loss: 7.0763 - mae: 7.0763\n",
            "Epoch 76/100\n",
            "1/1 [==============================] - 0s 13ms/step - loss: 7.0706 - mae: 7.0706\n",
            "Epoch 77/100\n",
            "1/1 [==============================] - 0s 19ms/step - loss: 7.0650 - mae: 7.0650\n",
            "Epoch 78/100\n",
            "1/1 [==============================] - 0s 16ms/step - loss: 7.0594 - mae: 7.0594\n",
            "Epoch 79/100\n",
            "1/1 [==============================] - 0s 19ms/step - loss: 7.0538 - mae: 7.0538\n",
            "Epoch 80/100\n",
            "1/1 [==============================] - 0s 45ms/step - loss: 7.0481 - mae: 7.0481\n",
            "Epoch 81/100\n",
            "1/1 [==============================] - 0s 11ms/step - loss: 7.0425 - mae: 7.0425\n",
            "Epoch 82/100\n",
            "1/1 [==============================] - 0s 13ms/step - loss: 7.0369 - mae: 7.0369\n",
            "Epoch 83/100\n",
            "1/1 [==============================] - 0s 7ms/step - loss: 7.0313 - mae: 7.0313\n",
            "Epoch 84/100\n",
            "1/1 [==============================] - 0s 6ms/step - loss: 7.0256 - mae: 7.0256\n",
            "Epoch 85/100\n",
            "1/1 [==============================] - 0s 9ms/step - loss: 7.0200 - mae: 7.0200\n",
            "Epoch 86/100\n",
            "1/1 [==============================] - 0s 12ms/step - loss: 7.0144 - mae: 7.0144\n",
            "Epoch 87/100\n",
            "1/1 [==============================] - 0s 36ms/step - loss: 7.0088 - mae: 7.0088\n",
            "Epoch 88/100\n",
            "1/1 [==============================] - 0s 7ms/step - loss: 7.0031 - mae: 7.0031\n",
            "Epoch 89/100\n",
            "1/1 [==============================] - 0s 7ms/step - loss: 6.9975 - mae: 6.9975\n",
            "Epoch 90/100\n",
            "1/1 [==============================] - 0s 21ms/step - loss: 6.9919 - mae: 6.9919\n",
            "Epoch 91/100\n",
            "1/1 [==============================] - 0s 11ms/step - loss: 6.9863 - mae: 6.9863\n",
            "Epoch 92/100\n",
            "1/1 [==============================] - 0s 9ms/step - loss: 6.9806 - mae: 6.9806\n",
            "Epoch 93/100\n",
            "1/1 [==============================] - 0s 12ms/step - loss: 6.9750 - mae: 6.9750\n",
            "Epoch 94/100\n",
            "1/1 [==============================] - 0s 32ms/step - loss: 6.9694 - mae: 6.9694\n",
            "Epoch 95/100\n",
            "1/1 [==============================] - 0s 16ms/step - loss: 6.9638 - mae: 6.9638\n",
            "Epoch 96/100\n",
            "1/1 [==============================] - 0s 12ms/step - loss: 6.9581 - mae: 6.9581\n",
            "Epoch 97/100\n",
            "1/1 [==============================] - 0s 10ms/step - loss: 6.9525 - mae: 6.9525\n",
            "Epoch 98/100\n",
            "1/1 [==============================] - 0s 11ms/step - loss: 6.9469 - mae: 6.9469\n",
            "Epoch 99/100\n",
            "1/1 [==============================] - 0s 11ms/step - loss: 6.9413 - mae: 6.9413\n",
            "Epoch 100/100\n",
            "1/1 [==============================] - 0s 16ms/step - loss: 6.9356 - mae: 6.9356\n"
          ]
        },
        {
          "output_type": "execute_result",
          "data": {
            "text/plain": [
              "<keras.callbacks.History at 0x7fd0c0609d60>"
            ]
          },
          "metadata": {},
          "execution_count": 12
        }
      ]
    },
    {
      "cell_type": "code",
      "source": [
        "model.predict([17.0])"
      ],
      "metadata": {
        "colab": {
          "base_uri": "https://localhost:8080/"
        },
        "id": "pyLkQ4jX19k_",
        "outputId": "db42a24f-29aa-46b9-c239-1f4803e5ed66"
      },
      "execution_count": 13,
      "outputs": [
        {
          "output_type": "stream",
          "name": "stdout",
          "text": [
            "1/1 [==============================] - 0s 192ms/step\n"
          ]
        },
        {
          "output_type": "execute_result",
          "data": {
            "text/plain": [
              "array([[30.206242]], dtype=float32)"
            ]
          },
          "metadata": {},
          "execution_count": 13
        }
      ]
    },
    {
      "cell_type": "code",
      "source": [
        "#create\n",
        "\n",
        "model = tf.keras.Sequential([\n",
        "    tf.keras.layers.Dense(1)\n",
        "])\n",
        "\n",
        "#compile\n",
        "model.compile(loss=tf.keras.losses.mae,\n",
        "              optimizer=tf.keras.optimizers.Adam(lr=0.0001),\n",
        "              metrics=[\"mae\"])\n",
        "\n",
        "#fit\n",
        "model.fit(tf.expand_dims(X, axis = -1), y, epochs = 100)\n"
      ],
      "metadata": {
        "colab": {
          "base_uri": "https://localhost:8080/"
        },
        "id": "AbbqDRW822V8",
        "outputId": "b5691498-10e3-495f-b1f3-057439c9d591"
      },
      "execution_count": 14,
      "outputs": [
        {
          "output_type": "stream",
          "name": "stdout",
          "text": [
            "Epoch 1/100\n"
          ]
        },
        {
          "output_type": "stream",
          "name": "stderr",
          "text": [
            "/usr/local/lib/python3.8/dist-packages/keras/optimizers/optimizer_v2/adam.py:110: UserWarning: The `lr` argument is deprecated, use `learning_rate` instead.\n",
            "  super(Adam, self).__init__(name, **kwargs)\n"
          ]
        },
        {
          "output_type": "stream",
          "name": "stdout",
          "text": [
            "1/1 [==============================] - 0s 355ms/step - loss: 11.3277 - mae: 11.3277\n",
            "Epoch 2/100\n",
            "1/1 [==============================] - 0s 9ms/step - loss: 11.3272 - mae: 11.3272\n",
            "Epoch 3/100\n",
            "1/1 [==============================] - 0s 5ms/step - loss: 11.3268 - mae: 11.3268\n",
            "Epoch 4/100\n",
            "1/1 [==============================] - 0s 6ms/step - loss: 11.3263 - mae: 11.3263\n",
            "Epoch 5/100\n",
            "1/1 [==============================] - 0s 7ms/step - loss: 11.3259 - mae: 11.3259\n",
            "Epoch 6/100\n",
            "1/1 [==============================] - 0s 6ms/step - loss: 11.3254 - mae: 11.3254\n",
            "Epoch 7/100\n",
            "1/1 [==============================] - 0s 7ms/step - loss: 11.3250 - mae: 11.3250\n",
            "Epoch 8/100\n",
            "1/1 [==============================] - 0s 8ms/step - loss: 11.3245 - mae: 11.3245\n",
            "Epoch 9/100\n",
            "1/1 [==============================] - 0s 6ms/step - loss: 11.3241 - mae: 11.3241\n",
            "Epoch 10/100\n",
            "1/1 [==============================] - 0s 7ms/step - loss: 11.3236 - mae: 11.3236\n",
            "Epoch 11/100\n",
            "1/1 [==============================] - 0s 7ms/step - loss: 11.3232 - mae: 11.3232\n",
            "Epoch 12/100\n",
            "1/1 [==============================] - 0s 10ms/step - loss: 11.3227 - mae: 11.3227\n",
            "Epoch 13/100\n",
            "1/1 [==============================] - 0s 6ms/step - loss: 11.3223 - mae: 11.3223\n",
            "Epoch 14/100\n",
            "1/1 [==============================] - 0s 6ms/step - loss: 11.3218 - mae: 11.3218\n",
            "Epoch 15/100\n",
            "1/1 [==============================] - 0s 7ms/step - loss: 11.3214 - mae: 11.3214\n",
            "Epoch 16/100\n",
            "1/1 [==============================] - 0s 8ms/step - loss: 11.3209 - mae: 11.3209\n",
            "Epoch 17/100\n",
            "1/1 [==============================] - 0s 8ms/step - loss: 11.3205 - mae: 11.3205\n",
            "Epoch 18/100\n",
            "1/1 [==============================] - 0s 6ms/step - loss: 11.3200 - mae: 11.3200\n",
            "Epoch 19/100\n",
            "1/1 [==============================] - 0s 7ms/step - loss: 11.3196 - mae: 11.3196\n",
            "Epoch 20/100\n",
            "1/1 [==============================] - 0s 11ms/step - loss: 11.3191 - mae: 11.3191\n",
            "Epoch 21/100\n",
            "1/1 [==============================] - 0s 7ms/step - loss: 11.3187 - mae: 11.3187\n",
            "Epoch 22/100\n",
            "1/1 [==============================] - 0s 8ms/step - loss: 11.3182 - mae: 11.3182\n",
            "Epoch 23/100\n",
            "1/1 [==============================] - 0s 8ms/step - loss: 11.3178 - mae: 11.3178\n",
            "Epoch 24/100\n",
            "1/1 [==============================] - 0s 6ms/step - loss: 11.3173 - mae: 11.3173\n",
            "Epoch 25/100\n",
            "1/1 [==============================] - 0s 6ms/step - loss: 11.3169 - mae: 11.3169\n",
            "Epoch 26/100\n",
            "1/1 [==============================] - 0s 8ms/step - loss: 11.3164 - mae: 11.3164\n",
            "Epoch 27/100\n",
            "1/1 [==============================] - 0s 8ms/step - loss: 11.3160 - mae: 11.3160\n",
            "Epoch 28/100\n",
            "1/1 [==============================] - 0s 6ms/step - loss: 11.3155 - mae: 11.3155\n",
            "Epoch 29/100\n",
            "1/1 [==============================] - 0s 7ms/step - loss: 11.3151 - mae: 11.3151\n",
            "Epoch 30/100\n",
            "1/1 [==============================] - 0s 6ms/step - loss: 11.3146 - mae: 11.3146\n",
            "Epoch 31/100\n",
            "1/1 [==============================] - 0s 6ms/step - loss: 11.3142 - mae: 11.3142\n",
            "Epoch 32/100\n",
            "1/1 [==============================] - 0s 7ms/step - loss: 11.3137 - mae: 11.3137\n",
            "Epoch 33/100\n",
            "1/1 [==============================] - 0s 7ms/step - loss: 11.3133 - mae: 11.3133\n",
            "Epoch 34/100\n",
            "1/1 [==============================] - 0s 9ms/step - loss: 11.3128 - mae: 11.3128\n",
            "Epoch 35/100\n",
            "1/1 [==============================] - 0s 6ms/step - loss: 11.3124 - mae: 11.3124\n",
            "Epoch 36/100\n",
            "1/1 [==============================] - 0s 6ms/step - loss: 11.3119 - mae: 11.3119\n",
            "Epoch 37/100\n",
            "1/1 [==============================] - 0s 7ms/step - loss: 11.3115 - mae: 11.3115\n",
            "Epoch 38/100\n",
            "1/1 [==============================] - 0s 8ms/step - loss: 11.3110 - mae: 11.3110\n",
            "Epoch 39/100\n",
            "1/1 [==============================] - 0s 8ms/step - loss: 11.3106 - mae: 11.3106\n",
            "Epoch 40/100\n",
            "1/1 [==============================] - 0s 7ms/step - loss: 11.3101 - mae: 11.3101\n",
            "Epoch 41/100\n",
            "1/1 [==============================] - 0s 7ms/step - loss: 11.3097 - mae: 11.3097\n",
            "Epoch 42/100\n",
            "1/1 [==============================] - 0s 7ms/step - loss: 11.3092 - mae: 11.3092\n",
            "Epoch 43/100\n",
            "1/1 [==============================] - 0s 9ms/step - loss: 11.3088 - mae: 11.3088\n",
            "Epoch 44/100\n",
            "1/1 [==============================] - 0s 7ms/step - loss: 11.3083 - mae: 11.3083\n",
            "Epoch 45/100\n",
            "1/1 [==============================] - 0s 6ms/step - loss: 11.3079 - mae: 11.3079\n",
            "Epoch 46/100\n",
            "1/1 [==============================] - 0s 7ms/step - loss: 11.3074 - mae: 11.3074\n",
            "Epoch 47/100\n",
            "1/1 [==============================] - 0s 8ms/step - loss: 11.3070 - mae: 11.3070\n",
            "Epoch 48/100\n",
            "1/1 [==============================] - 0s 7ms/step - loss: 11.3065 - mae: 11.3065\n",
            "Epoch 49/100\n",
            "1/1 [==============================] - 0s 7ms/step - loss: 11.3061 - mae: 11.3061\n",
            "Epoch 50/100\n",
            "1/1 [==============================] - 0s 6ms/step - loss: 11.3056 - mae: 11.3056\n",
            "Epoch 51/100\n",
            "1/1 [==============================] - 0s 9ms/step - loss: 11.3052 - mae: 11.3052\n",
            "Epoch 52/100\n",
            "1/1 [==============================] - 0s 7ms/step - loss: 11.3047 - mae: 11.3047\n",
            "Epoch 53/100\n",
            "1/1 [==============================] - 0s 8ms/step - loss: 11.3043 - mae: 11.3043\n",
            "Epoch 54/100\n",
            "1/1 [==============================] - 0s 6ms/step - loss: 11.3038 - mae: 11.3038\n",
            "Epoch 55/100\n",
            "1/1 [==============================] - 0s 8ms/step - loss: 11.3034 - mae: 11.3034\n",
            "Epoch 56/100\n",
            "1/1 [==============================] - 0s 7ms/step - loss: 11.3029 - mae: 11.3029\n",
            "Epoch 57/100\n",
            "1/1 [==============================] - 0s 7ms/step - loss: 11.3025 - mae: 11.3025\n",
            "Epoch 58/100\n",
            "1/1 [==============================] - 0s 8ms/step - loss: 11.3020 - mae: 11.3020\n",
            "Epoch 59/100\n",
            "1/1 [==============================] - 0s 8ms/step - loss: 11.3016 - mae: 11.3016\n",
            "Epoch 60/100\n",
            "1/1 [==============================] - 0s 6ms/step - loss: 11.3011 - mae: 11.3011\n",
            "Epoch 61/100\n",
            "1/1 [==============================] - 0s 9ms/step - loss: 11.3007 - mae: 11.3007\n",
            "Epoch 62/100\n",
            "1/1 [==============================] - 0s 6ms/step - loss: 11.3002 - mae: 11.3002\n",
            "Epoch 63/100\n",
            "1/1 [==============================] - 0s 6ms/step - loss: 11.2998 - mae: 11.2998\n",
            "Epoch 64/100\n",
            "1/1 [==============================] - 0s 7ms/step - loss: 11.2993 - mae: 11.2993\n",
            "Epoch 65/100\n",
            "1/1 [==============================] - 0s 7ms/step - loss: 11.2989 - mae: 11.2989\n",
            "Epoch 66/100\n",
            "1/1 [==============================] - 0s 8ms/step - loss: 11.2984 - mae: 11.2984\n",
            "Epoch 67/100\n",
            "1/1 [==============================] - 0s 6ms/step - loss: 11.2980 - mae: 11.2980\n",
            "Epoch 68/100\n",
            "1/1 [==============================] - 0s 7ms/step - loss: 11.2975 - mae: 11.2975\n",
            "Epoch 69/100\n",
            "1/1 [==============================] - 0s 8ms/step - loss: 11.2971 - mae: 11.2971\n",
            "Epoch 70/100\n",
            "1/1 [==============================] - 0s 7ms/step - loss: 11.2966 - mae: 11.2966\n",
            "Epoch 71/100\n",
            "1/1 [==============================] - 0s 9ms/step - loss: 11.2962 - mae: 11.2962\n",
            "Epoch 72/100\n",
            "1/1 [==============================] - 0s 6ms/step - loss: 11.2957 - mae: 11.2957\n",
            "Epoch 73/100\n",
            "1/1 [==============================] - 0s 6ms/step - loss: 11.2953 - mae: 11.2953\n",
            "Epoch 74/100\n",
            "1/1 [==============================] - 0s 7ms/step - loss: 11.2948 - mae: 11.2948\n",
            "Epoch 75/100\n",
            "1/1 [==============================] - 0s 8ms/step - loss: 11.2944 - mae: 11.2944\n",
            "Epoch 76/100\n",
            "1/1 [==============================] - 0s 6ms/step - loss: 11.2939 - mae: 11.2939\n",
            "Epoch 77/100\n",
            "1/1 [==============================] - 0s 7ms/step - loss: 11.2935 - mae: 11.2935\n",
            "Epoch 78/100\n",
            "1/1 [==============================] - 0s 8ms/step - loss: 11.2930 - mae: 11.2930\n",
            "Epoch 79/100\n",
            "1/1 [==============================] - 0s 7ms/step - loss: 11.2926 - mae: 11.2926\n",
            "Epoch 80/100\n",
            "1/1 [==============================] - 0s 9ms/step - loss: 11.2921 - mae: 11.2921\n",
            "Epoch 81/100\n",
            "1/1 [==============================] - 0s 14ms/step - loss: 11.2917 - mae: 11.2917\n",
            "Epoch 82/100\n",
            "1/1 [==============================] - 0s 8ms/step - loss: 11.2912 - mae: 11.2912\n",
            "Epoch 83/100\n",
            "1/1 [==============================] - 0s 8ms/step - loss: 11.2908 - mae: 11.2908\n",
            "Epoch 84/100\n",
            "1/1 [==============================] - 0s 8ms/step - loss: 11.2903 - mae: 11.2903\n",
            "Epoch 85/100\n",
            "1/1 [==============================] - 0s 20ms/step - loss: 11.2899 - mae: 11.2899\n",
            "Epoch 86/100\n",
            "1/1 [==============================] - 0s 7ms/step - loss: 11.2894 - mae: 11.2894\n",
            "Epoch 87/100\n",
            "1/1 [==============================] - 0s 6ms/step - loss: 11.2890 - mae: 11.2890\n",
            "Epoch 88/100\n",
            "1/1 [==============================] - 0s 7ms/step - loss: 11.2885 - mae: 11.2885\n",
            "Epoch 89/100\n",
            "1/1 [==============================] - 0s 9ms/step - loss: 11.2881 - mae: 11.2881\n",
            "Epoch 90/100\n",
            "1/1 [==============================] - 0s 9ms/step - loss: 11.2876 - mae: 11.2876\n",
            "Epoch 91/100\n",
            "1/1 [==============================] - 0s 10ms/step - loss: 11.2872 - mae: 11.2872\n",
            "Epoch 92/100\n",
            "1/1 [==============================] - 0s 11ms/step - loss: 11.2867 - mae: 11.2867\n",
            "Epoch 93/100\n",
            "1/1 [==============================] - 0s 12ms/step - loss: 11.2863 - mae: 11.2863\n",
            "Epoch 94/100\n",
            "1/1 [==============================] - 0s 7ms/step - loss: 11.2858 - mae: 11.2858\n",
            "Epoch 95/100\n",
            "1/1 [==============================] - 0s 23ms/step - loss: 11.2854 - mae: 11.2854\n",
            "Epoch 96/100\n",
            "1/1 [==============================] - 0s 12ms/step - loss: 11.2849 - mae: 11.2849\n",
            "Epoch 97/100\n",
            "1/1 [==============================] - 0s 7ms/step - loss: 11.2845 - mae: 11.2845\n",
            "Epoch 98/100\n",
            "1/1 [==============================] - 0s 7ms/step - loss: 11.2840 - mae: 11.2840\n",
            "Epoch 99/100\n",
            "1/1 [==============================] - 0s 7ms/step - loss: 11.2836 - mae: 11.2836\n",
            "Epoch 100/100\n",
            "1/1 [==============================] - 0s 9ms/step - loss: 11.2831 - mae: 11.2831\n"
          ]
        },
        {
          "output_type": "execute_result",
          "data": {
            "text/plain": [
              "<keras.callbacks.History at 0x7fd0bfb44610>"
            ]
          },
          "metadata": {},
          "execution_count": 14
        }
      ]
    },
    {
      "cell_type": "code",
      "source": [
        "model.predict([17.0])"
      ],
      "metadata": {
        "colab": {
          "base_uri": "https://localhost:8080/"
        },
        "id": "-v40t6I548C1",
        "outputId": "dbc9a2ca-c08d-4344-f410-de36bbe01a58"
      },
      "execution_count": 15,
      "outputs": [
        {
          "output_type": "stream",
          "name": "stdout",
          "text": [
            "1/1 [==============================] - 0s 194ms/step\n"
          ]
        },
        {
          "output_type": "execute_result",
          "data": {
            "text/plain": [
              "array([[10.731239]], dtype=float32)"
            ]
          },
          "metadata": {},
          "execution_count": 15
        }
      ]
    },
    {
      "cell_type": "code",
      "source": [
        "#create\n",
        "\n",
        "model = tf.keras.Sequential([\n",
        "    tf.keras.layers.Dense(100, activation= \"relu\"),\n",
        "    tf.keras.layers.Dense(1)\n",
        "])\n",
        "\n",
        "#Compile\n",
        "\n",
        "model.compile(loss = \"mae\",\n",
        "              optimizer = tf.keras.optimizers.SGD(),\n",
        "              metrics=[\"mae\"])\n",
        "\n",
        "#fit\n",
        "model.fit(tf.expand_dims(X, axis = -1), y, epochs = 100)\n"
      ],
      "metadata": {
        "colab": {
          "base_uri": "https://localhost:8080/"
        },
        "id": "WNz9v4eu4_pZ",
        "outputId": "16c06dac-92bb-4e85-f0c6-c96a6cd7dcbc"
      },
      "execution_count": 16,
      "outputs": [
        {
          "output_type": "stream",
          "name": "stdout",
          "text": [
            "Epoch 1/100\n",
            "1/1 [==============================] - 0s 369ms/step - loss: 12.8900 - mae: 12.8900\n",
            "Epoch 2/100\n",
            "1/1 [==============================] - 0s 10ms/step - loss: 12.3060 - mae: 12.3060\n",
            "Epoch 3/100\n",
            "1/1 [==============================] - 0s 14ms/step - loss: 11.7271 - mae: 11.7271\n",
            "Epoch 4/100\n",
            "1/1 [==============================] - 0s 9ms/step - loss: 11.1514 - mae: 11.1514\n",
            "Epoch 5/100\n",
            "1/1 [==============================] - 0s 11ms/step - loss: 10.5569 - mae: 10.5569\n",
            "Epoch 6/100\n",
            "1/1 [==============================] - 0s 8ms/step - loss: 9.9412 - mae: 9.9412\n",
            "Epoch 7/100\n",
            "1/1 [==============================] - 0s 7ms/step - loss: 9.3535 - mae: 9.3535\n",
            "Epoch 8/100\n",
            "1/1 [==============================] - 0s 10ms/step - loss: 8.7315 - mae: 8.7315\n",
            "Epoch 9/100\n",
            "1/1 [==============================] - 0s 6ms/step - loss: 8.0773 - mae: 8.0773\n",
            "Epoch 10/100\n",
            "1/1 [==============================] - 0s 6ms/step - loss: 7.3880 - mae: 7.3880\n",
            "Epoch 11/100\n",
            "1/1 [==============================] - 0s 6ms/step - loss: 6.6474 - mae: 6.6474\n",
            "Epoch 12/100\n",
            "1/1 [==============================] - 0s 6ms/step - loss: 5.8519 - mae: 5.8519\n",
            "Epoch 13/100\n",
            "1/1 [==============================] - 0s 9ms/step - loss: 4.9947 - mae: 4.9947\n",
            "Epoch 14/100\n",
            "1/1 [==============================] - 0s 6ms/step - loss: 4.1662 - mae: 4.1662\n",
            "Epoch 15/100\n",
            "1/1 [==============================] - 0s 11ms/step - loss: 4.0739 - mae: 4.0739\n",
            "Epoch 16/100\n",
            "1/1 [==============================] - 0s 6ms/step - loss: 3.9756 - mae: 3.9756\n",
            "Epoch 17/100\n",
            "1/1 [==============================] - 0s 7ms/step - loss: 3.9373 - mae: 3.9373\n",
            "Epoch 18/100\n",
            "1/1 [==============================] - 0s 7ms/step - loss: 3.9498 - mae: 3.9498\n",
            "Epoch 19/100\n",
            "1/1 [==============================] - 0s 7ms/step - loss: 3.9439 - mae: 3.9439\n",
            "Epoch 20/100\n",
            "1/1 [==============================] - 0s 8ms/step - loss: 3.9239 - mae: 3.9239\n",
            "Epoch 21/100\n",
            "1/1 [==============================] - 0s 8ms/step - loss: 3.9508 - mae: 3.9508\n",
            "Epoch 22/100\n",
            "1/1 [==============================] - 0s 6ms/step - loss: 3.9005 - mae: 3.9005\n",
            "Epoch 23/100\n",
            "1/1 [==============================] - 0s 7ms/step - loss: 3.9666 - mae: 3.9666\n",
            "Epoch 24/100\n",
            "1/1 [==============================] - 0s 10ms/step - loss: 3.8981 - mae: 3.8981\n",
            "Epoch 25/100\n",
            "1/1 [==============================] - 0s 7ms/step - loss: 3.9543 - mae: 3.9543\n",
            "Epoch 26/100\n",
            "1/1 [==============================] - 0s 7ms/step - loss: 3.9048 - mae: 3.9048\n",
            "Epoch 27/100\n",
            "1/1 [==============================] - 0s 7ms/step - loss: 3.9282 - mae: 3.9282\n",
            "Epoch 28/100\n",
            "1/1 [==============================] - 0s 7ms/step - loss: 3.9116 - mae: 3.9116\n",
            "Epoch 29/100\n",
            "1/1 [==============================] - 0s 7ms/step - loss: 3.9021 - mae: 3.9021\n",
            "Epoch 30/100\n",
            "1/1 [==============================] - 0s 8ms/step - loss: 3.9203 - mae: 3.9203\n",
            "Epoch 31/100\n",
            "1/1 [==============================] - 0s 7ms/step - loss: 3.8841 - mae: 3.8841\n",
            "Epoch 32/100\n",
            "1/1 [==============================] - 0s 7ms/step - loss: 3.9346 - mae: 3.9346\n",
            "Epoch 33/100\n",
            "1/1 [==============================] - 0s 7ms/step - loss: 3.8666 - mae: 3.8666\n",
            "Epoch 34/100\n",
            "1/1 [==============================] - 0s 7ms/step - loss: 3.9316 - mae: 3.9316\n",
            "Epoch 35/100\n",
            "1/1 [==============================] - 0s 8ms/step - loss: 3.8734 - mae: 3.8734\n",
            "Epoch 36/100\n",
            "1/1 [==============================] - 0s 6ms/step - loss: 3.9053 - mae: 3.9053\n",
            "Epoch 37/100\n",
            "1/1 [==============================] - 0s 7ms/step - loss: 3.8805 - mae: 3.8805\n",
            "Epoch 38/100\n",
            "1/1 [==============================] - 0s 6ms/step - loss: 3.8804 - mae: 3.8804\n",
            "Epoch 39/100\n",
            "1/1 [==============================] - 0s 6ms/step - loss: 3.8967 - mae: 3.8967\n",
            "Epoch 40/100\n",
            "1/1 [==============================] - 0s 7ms/step - loss: 3.8606 - mae: 3.8606\n",
            "Epoch 41/100\n",
            "1/1 [==============================] - 0s 31ms/step - loss: 3.9038 - mae: 3.9038\n",
            "Epoch 42/100\n",
            "1/1 [==============================] - 0s 68ms/step - loss: 3.8361 - mae: 3.8361\n",
            "Epoch 43/100\n",
            "1/1 [==============================] - 0s 11ms/step - loss: 3.9077 - mae: 3.9077\n",
            "Epoch 44/100\n",
            "1/1 [==============================] - 0s 10ms/step - loss: 3.8432 - mae: 3.8432\n",
            "Epoch 45/100\n",
            "1/1 [==============================] - 0s 7ms/step - loss: 3.8812 - mae: 3.8812\n",
            "Epoch 46/100\n",
            "1/1 [==============================] - 0s 7ms/step - loss: 3.8511 - mae: 3.8511\n",
            "Epoch 47/100\n",
            "1/1 [==============================] - 0s 7ms/step - loss: 3.8629 - mae: 3.8629\n",
            "Epoch 48/100\n",
            "1/1 [==============================] - 0s 7ms/step - loss: 3.8668 - mae: 3.8668\n",
            "Epoch 49/100\n",
            "1/1 [==============================] - 0s 9ms/step - loss: 3.8358 - mae: 3.8358\n",
            "Epoch 50/100\n",
            "1/1 [==============================] - 0s 7ms/step - loss: 3.8740 - mae: 3.8740\n",
            "Epoch 51/100\n",
            "1/1 [==============================] - 0s 7ms/step - loss: 3.8086 - mae: 3.8086\n",
            "Epoch 52/100\n",
            "1/1 [==============================] - 0s 8ms/step - loss: 3.8816 - mae: 3.8816\n",
            "Epoch 53/100\n",
            "1/1 [==============================] - 0s 6ms/step - loss: 3.8141 - mae: 3.8141\n",
            "Epoch 54/100\n",
            "1/1 [==============================] - 0s 7ms/step - loss: 3.8559 - mae: 3.8559\n",
            "Epoch 55/100\n",
            "1/1 [==============================] - 0s 9ms/step - loss: 3.8306 - mae: 3.8306\n",
            "Epoch 56/100\n",
            "1/1 [==============================] - 0s 6ms/step - loss: 3.8371 - mae: 3.8371\n",
            "Epoch 57/100\n",
            "1/1 [==============================] - 0s 6ms/step - loss: 3.8379 - mae: 3.8379\n",
            "Epoch 58/100\n",
            "1/1 [==============================] - 0s 6ms/step - loss: 3.8097 - mae: 3.8097\n",
            "Epoch 59/100\n",
            "1/1 [==============================] - 0s 7ms/step - loss: 3.8455 - mae: 3.8455\n",
            "Epoch 60/100\n",
            "1/1 [==============================] - 0s 8ms/step - loss: 3.7824 - mae: 3.7824\n",
            "Epoch 61/100\n",
            "1/1 [==============================] - 0s 7ms/step - loss: 3.8533 - mae: 3.8533\n",
            "Epoch 62/100\n",
            "1/1 [==============================] - 0s 7ms/step - loss: 3.7860 - mae: 3.7860\n",
            "Epoch 63/100\n",
            "1/1 [==============================] - 0s 7ms/step - loss: 3.8368 - mae: 3.8368\n",
            "Epoch 64/100\n",
            "1/1 [==============================] - 0s 8ms/step - loss: 3.8026 - mae: 3.8026\n",
            "Epoch 65/100\n",
            "1/1 [==============================] - 0s 8ms/step - loss: 3.8101 - mae: 3.8101\n",
            "Epoch 66/100\n",
            "1/1 [==============================] - 0s 10ms/step - loss: 3.8102 - mae: 3.8102\n",
            "Epoch 67/100\n",
            "1/1 [==============================] - 0s 7ms/step - loss: 3.7825 - mae: 3.7825\n",
            "Epoch 68/100\n",
            "1/1 [==============================] - 0s 8ms/step - loss: 3.8180 - mae: 3.8180\n",
            "Epoch 69/100\n",
            "1/1 [==============================] - 0s 8ms/step - loss: 3.7550 - mae: 3.7550\n",
            "Epoch 70/100\n",
            "1/1 [==============================] - 0s 8ms/step - loss: 3.8260 - mae: 3.8260\n",
            "Epoch 71/100\n",
            "1/1 [==============================] - 0s 8ms/step - loss: 3.7652 - mae: 3.7652\n",
            "Epoch 72/100\n",
            "1/1 [==============================] - 0s 8ms/step - loss: 3.8096 - mae: 3.8096\n",
            "Epoch 73/100\n",
            "1/1 [==============================] - 0s 64ms/step - loss: 3.7757 - mae: 3.7757\n",
            "Epoch 74/100\n",
            "1/1 [==============================] - 0s 47ms/step - loss: 3.7819 - mae: 3.7819\n",
            "Epoch 75/100\n",
            "1/1 [==============================] - 0s 36ms/step - loss: 3.7834 - mae: 3.7834\n",
            "Epoch 76/100\n",
            "1/1 [==============================] - 0s 13ms/step - loss: 3.7540 - mae: 3.7540\n",
            "Epoch 77/100\n",
            "1/1 [==============================] - 0s 14ms/step - loss: 3.7914 - mae: 3.7914\n",
            "Epoch 78/100\n",
            "1/1 [==============================] - 0s 10ms/step - loss: 3.7261 - mae: 3.7261\n",
            "Epoch 79/100\n",
            "1/1 [==============================] - 0s 11ms/step - loss: 3.8046 - mae: 3.8046\n",
            "Epoch 80/100\n",
            "1/1 [==============================] - 0s 7ms/step - loss: 3.7417 - mae: 3.7417\n",
            "Epoch 81/100\n",
            "1/1 [==============================] - 0s 13ms/step - loss: 3.7802 - mae: 3.7802\n",
            "Epoch 82/100\n",
            "1/1 [==============================] - 0s 9ms/step - loss: 3.7494 - mae: 3.7494\n",
            "Epoch 83/100\n",
            "1/1 [==============================] - 0s 8ms/step - loss: 3.7519 - mae: 3.7519\n",
            "Epoch 84/100\n",
            "1/1 [==============================] - 0s 11ms/step - loss: 3.7572 - mae: 3.7572\n",
            "Epoch 85/100\n",
            "1/1 [==============================] - 0s 6ms/step - loss: 3.7237 - mae: 3.7237\n",
            "Epoch 86/100\n",
            "1/1 [==============================] - 0s 7ms/step - loss: 3.7653 - mae: 3.7653\n",
            "Epoch 87/100\n",
            "1/1 [==============================] - 0s 9ms/step - loss: 3.7046 - mae: 3.7046\n",
            "Epoch 88/100\n",
            "1/1 [==============================] - 0s 7ms/step - loss: 3.7771 - mae: 3.7771\n",
            "Epoch 89/100\n",
            "1/1 [==============================] - 0s 8ms/step - loss: 3.7158 - mae: 3.7158\n",
            "Epoch 90/100\n",
            "1/1 [==============================] - 0s 9ms/step - loss: 3.7482 - mae: 3.7482\n",
            "Epoch 91/100\n",
            "1/1 [==============================] - 0s 9ms/step - loss: 3.7232 - mae: 3.7232\n",
            "Epoch 92/100\n",
            "1/1 [==============================] - 0s 9ms/step - loss: 3.7186 - mae: 3.7186\n",
            "Epoch 93/100\n",
            "1/1 [==============================] - 0s 9ms/step - loss: 3.7318 - mae: 3.7318\n",
            "Epoch 94/100\n",
            "1/1 [==============================] - 0s 13ms/step - loss: 3.6897 - mae: 3.6897\n",
            "Epoch 95/100\n",
            "1/1 [==============================] - 0s 6ms/step - loss: 3.7475 - mae: 3.7475\n",
            "Epoch 96/100\n",
            "1/1 [==============================] - 0s 6ms/step - loss: 3.6822 - mae: 3.6822\n",
            "Epoch 97/100\n",
            "1/1 [==============================] - 0s 6ms/step - loss: 3.7444 - mae: 3.7444\n",
            "Epoch 98/100\n",
            "1/1 [==============================] - 0s 6ms/step - loss: 3.6908 - mae: 3.6908\n",
            "Epoch 99/100\n",
            "1/1 [==============================] - 0s 5ms/step - loss: 3.7146 - mae: 3.7146\n",
            "Epoch 100/100\n",
            "1/1 [==============================] - 0s 6ms/step - loss: 3.6993 - mae: 3.6993\n"
          ]
        },
        {
          "output_type": "execute_result",
          "data": {
            "text/plain": [
              "<keras.callbacks.History at 0x7fd0bf214f40>"
            ]
          },
          "metadata": {},
          "execution_count": 16
        }
      ]
    },
    {
      "cell_type": "code",
      "source": [
        "model.predict([17.0])"
      ],
      "metadata": {
        "colab": {
          "base_uri": "https://localhost:8080/"
        },
        "id": "pTETm65G_ggm",
        "outputId": "0bf0a963-ed52-4810-ec11-6fb739727185"
      },
      "execution_count": 17,
      "outputs": [
        {
          "output_type": "stream",
          "name": "stdout",
          "text": [
            "1/1 [==============================] - 0s 55ms/step\n"
          ]
        },
        {
          "output_type": "execute_result",
          "data": {
            "text/plain": [
              "array([[31.607237]], dtype=float32)"
            ]
          },
          "metadata": {},
          "execution_count": 17
        }
      ]
    },
    {
      "cell_type": "code",
      "source": [],
      "metadata": {
        "id": "l85eVgyv_lHd"
      },
      "execution_count": null,
      "outputs": []
    }
  ]
}